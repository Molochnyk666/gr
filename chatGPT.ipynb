{
 "cells": [
  {
   "cell_type": "code",
   "execution_count": null,
   "metadata": {},
   "outputs": [],
   "source": [
    "AP761161-25,V6463-05,O_83054Z60.32,AP721991,NTEU21-60737,38228994,V4783-19,V0587-03,P_54798.40,O_1077SU64238L,M_1861,16305.272/2XL,O_3101196S_v2"
   ]
  }
 ],
 "metadata": {
  "language_info": {
   "name": "python"
  }
 },
 "nbformat": 4,
 "nbformat_minor": 2
}
